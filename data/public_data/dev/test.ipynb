{
 "cells": [
  {
   "cell_type": "code",
   "execution_count": 21,
   "metadata": {},
   "outputs": [],
   "source": [
    "import os\n",
    "import json\n",
    "from datasets import load_from_disk, DatasetDict, Dataset\n",
    "import  xml.dom.minidom\n",
    "\n",
    "path = \"/data/hyxu/lowMT_compute/data/public_data/dev\""
   ]
  },
  {
   "cell_type": "code",
   "execution_count": 2,
   "metadata": {},
   "outputs": [
    {
     "data": {
      "text/plain": [
       "<DOM Element: srcset at 0x7f4b7c4c28c0>"
      ]
     },
     "execution_count": 2,
     "metadata": {},
     "output_type": "execute_result"
    }
   ],
   "source": [
    "dom = xml.dom.minidom.parse(os.path.join(path, \"dev.nl-zh.nl.xml\"))\n",
    "root = dom.documentElement\n",
    "root"
   ]
  },
  {
   "cell_type": "code",
   "execution_count": 15,
   "metadata": {},
   "outputs": [
    {
     "data": {
      "text/plain": [
       "(1000,\n",
       " [('1', 'Pardon, welke trein moet ik nemen naar Wenzhou?'),\n",
       "  ('2',\n",
       "   'De redactieleden moeten hun ideeën durven voor te stellen, hoe gek die ook mogen lijken.'),\n",
       "  ('3', 'Maar er zijn bewezen dat niet iedereen deze houding heeft.'),\n",
       "  ('4',\n",
       "   'Uranium heeft een zware, onstabiele atoomkern en deelt zich bij kernsplijting in twee of meer lichtere atoomkernen.'),\n",
       "  ('5',\n",
       "   'Het is waardig om tempel van de Hemel te bezoeken, hij wordt beschouwd als een uitstekend model van Chinese architectuur.'),\n",
       "  ('6',\n",
       "   'De energiecrisis is een crisis van de methode, en zeker geen hulpbronnencrisis.'),\n",
       "  ('7',\n",
       "   'Het gebruikt deze informatie om producten aan gebruikers te verkopen.'),\n",
       "  ('8',\n",
       "   'Je denkt na over wat wetenschappelijke kennis is en hoe die tot stand komt.'),\n",
       "  ('9', 'Obligaties worden verhandeld op de obligatiemarkt.'),\n",
       "  ('10',\n",
       "   'De rechtspraktijk is onlosmakelijk verbonden met de begeleiding van de rechtstheorie.')])"
      ]
     },
     "execution_count": 15,
     "metadata": {},
     "output_type": "execute_result"
    }
   ],
   "source": [
    "seg_list = root.getElementsByTagName(\"seg\")\n",
    "# getAttribute\n",
    "# data\n",
    "# seg_list\n",
    "data = [(s.getAttribute(\"id\"), s.firstChild.data) for s in seg_list]\n",
    "len(data), data[:10]"
   ]
  },
  {
   "cell_type": "code",
   "execution_count": 23,
   "metadata": {},
   "outputs": [
    {
     "name": "stdout",
     "output_type": "stream",
     "text": [
      "1000\n",
      "1000\n"
     ]
    },
    {
     "data": {
      "text/plain": [
       "Dataset({\n",
       "    features: ['nl_XX', 'zh_CN'],\n",
       "    num_rows: 1000\n",
       "})"
      ]
     },
     "execution_count": 23,
     "metadata": {},
     "output_type": "execute_result"
    }
   ],
   "source": [
    "def _read_xml(p):\n",
    "    dom = xml.dom.minidom.parse(p)\n",
    "    root = dom.documentElement\n",
    "    seg_list = root.getElementsByTagName(\"seg\")\n",
    "    data = [s.firstChild.data for s in seg_list]\n",
    "    print(len(data))\n",
    "    return [s.rstrip(\"\\n\") for s in data]\n",
    "lang1, lang2 = \"nl_XX\", \"zh_CN\"\n",
    "\n",
    "nl2zh = Dataset.from_dict({lang1: _read_xml(os.path.join(path, \"dev.nl-zh.nl.xml\")),\n",
    "                     lang2: _read_xml(os.path.join(path, \"dev.nl-zh.zh.xml\"))})\n",
    "nl2zh"
   ]
  },
  {
   "cell_type": "code",
   "execution_count": 24,
   "metadata": {},
   "outputs": [
    {
     "name": "stderr",
     "output_type": "stream",
     "text": [
      "                                                                                               \r"
     ]
    }
   ],
   "source": [
    "nl2zh.save_to_disk(f\"{path}/dev_set\")"
   ]
  },
  {
   "cell_type": "code",
   "execution_count": 27,
   "metadata": {},
   "outputs": [],
   "source": [
    "path = \"/data/hyxu/lowMT_compute/data/public_data/train/pair\"\n",
    "\n",
    "with open(f\"{path}/train.nl-zh\") as f:\n",
    "    data = f.readlines()\n",
    "data = [d.rstrip(\"\\n\") for d in data]\n",
    "nl_data, zh_data = [], []\n",
    "for d in data:\n",
    "    d = d.split(\"\\t\")\n",
    "    zh_data.append(d[0])\n",
    "    nl_data.append(d[1])\n",
    "with open(f\"{path}/train.zh\", \"w\") as f:\n",
    "    f.writelines([d+\"\\n\" for d in zh_data])\n",
    "with open(f\"{path}/train.nl\", \"w\") as f:\n",
    "    f.writelines([d+\"\\n\" for d in nl_data])"
   ]
  },
  {
   "cell_type": "code",
   "execution_count": 1,
   "metadata": {},
   "outputs": [
    {
     "data": {
      "text/plain": [
       "Dataset({\n",
       "    features: ['nl_XX', 'zh_CN'],\n",
       "    num_rows: 1000\n",
       "})"
      ]
     },
     "execution_count": 1,
     "metadata": {},
     "output_type": "execute_result"
    }
   ],
   "source": [
    "from datasets import load_from_disk\n",
    "\n",
    "data = load_from_disk(\"../dev_set\")\n",
    "data"
   ]
  },
  {
   "cell_type": "code",
   "execution_count": 3,
   "metadata": {},
   "outputs": [],
   "source": [
    "with open(\"/data/hyxu/lowMT_compute/data/public_data/train/pair/valid.nl\", \"w\") as f:\n",
    "    f.writelines([d+\"\\n\" for d in data[\"nl_XX\"]])\n",
    "with open(\"/data/hyxu/lowMT_compute/data/public_data/train/pair/valid.zh\", \"w\") as f:\n",
    "    f.writelines([d+\"\\n\" for d in data[\"zh_CN\"]])"
   ]
  },
  {
   "cell_type": "code",
   "execution_count": null,
   "metadata": {},
   "outputs": [],
   "source": []
  }
 ],
 "metadata": {
  "kernelspec": {
   "display_name": "work",
   "language": "python",
   "name": "python3"
  },
  "language_info": {
   "codemirror_mode": {
    "name": "ipython",
    "version": 3
   },
   "file_extension": ".py",
   "mimetype": "text/x-python",
   "name": "python",
   "nbconvert_exporter": "python",
   "pygments_lexer": "ipython3",
   "version": "3.10.10"
  },
  "orig_nbformat": 4
 },
 "nbformat": 4,
 "nbformat_minor": 2
}
